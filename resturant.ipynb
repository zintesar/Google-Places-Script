{
 "cells": [
  {
   "cell_type": "markdown",
   "metadata": {},
   "source": [
    "**Author:\n",
    "<br> Intesar Zaman\n",
    "<br> B.Sc. Computer Science and Engineering (EWU)**"
   ]
  },
  {
   "cell_type": "markdown",
   "metadata": {},
   "source": [
    "## Importing of required libraries and packages"
   ]
  },
  {
   "cell_type": "code",
   "execution_count": 62,
   "metadata": {},
   "outputs": [],
   "source": [
    "import requests\n",
    "import json\n",
    "import csv\n",
    "import win32com.client as win32"
   ]
  },
  {
   "cell_type": "markdown",
   "metadata": {},
   "source": [
    "### Get api key from file"
   ]
  },
  {
   "cell_type": "code",
   "execution_count": 58,
   "metadata": {},
   "outputs": [],
   "source": [
    "API_KEY = open('API_KEY.txt').read()"
   ]
  },
  {
   "cell_type": "markdown",
   "metadata": {},
   "source": [
    "## Initialize url"
   ]
  },
  {
   "cell_type": "code",
   "execution_count": 13,
   "metadata": {},
   "outputs": [],
   "source": [
    "url = \"https://maps.googleapis.com/maps/api/place/textsearch/json?\""
   ]
  },
  {
   "cell_type": "markdown",
   "metadata": {},
   "source": [
    "## Set query"
   ]
  },
  {
   "cell_type": "code",
   "execution_count": 14,
   "metadata": {},
   "outputs": [],
   "source": [
    "query = 'restaurants bangladesh'"
   ]
  },
  {
   "cell_type": "markdown",
   "metadata": {},
   "source": [
    "## Calling places API"
   ]
  },
  {
   "cell_type": "code",
   "execution_count": 15,
   "metadata": {},
   "outputs": [],
   "source": [
    "result = requests.get(url + 'query=' + query + '&key=' + API_KEY)"
   ]
  },
  {
   "cell_type": "markdown",
   "metadata": {},
   "source": [
    "## Getting results in a dictionary"
   ]
  },
  {
   "cell_type": "code",
   "execution_count": 16,
   "metadata": {},
   "outputs": [],
   "source": [
    "x = result.json()\n",
    "y = x['results']"
   ]
  },
  {
   "cell_type": "markdown",
   "metadata": {},
   "source": [
    "## Seeing the output "
   ]
  },
  {
   "cell_type": "code",
   "execution_count": 59,
   "metadata": {},
   "outputs": [],
   "source": [
    "# for i in range(len(y)):\n",
    "#     print(f\"Name : {y[i]['name']}\")\n",
    "#     print(f\"Latitude : {y[i]['geometry']['location']['lat']}\")\n",
    "#     print(f\"Longitude : {y[i]['geometry']['location']['lng']}\")\n",
    "#     print(f\"Rating : {y[i]['rating']}/5\")\n",
    "#     print(f\"Number of Reviews : {y[i]['user_ratings_total']}\")\n",
    "\n",
    "#     if ('price_level' in y[i]) :\n",
    "#         print(f\"Affluence level/Price : {y[i]['price_level']}\")\n",
    "#     else:\n",
    "#         print(f\"Affluence level/Price : unavilable\")\n",
    "\n",
    "#     print(\"\")\n",
    "#     print(\"\")"
   ]
  },
  {
   "cell_type": "markdown",
   "metadata": {},
   "source": [
    "## Exporting the data to CSV file"
   ]
  },
  {
   "cell_type": "code",
   "execution_count": 65,
   "metadata": {},
   "outputs": [],
   "source": [
    "with open('restaurant.csv', 'w', newline='', encoding=\"utf-8\") as csvfile:\n",
    "    fieldnames = ['Name','Latitude','Longitude','Rating','Number of Reviews','Affluence level/Price']\n",
    "    writer = csv.DictWriter(csvfile, fieldnames=fieldnames)\n",
    "\n",
    "    writer.writeheader()\n",
    "    for i in range(len(y)): \n",
    "        writer.writerow(\n",
    "            {\n",
    "                'Name' : y[i]['name'], \n",
    "                'Latitude' : y[i]['geometry']['location']['lat'], \n",
    "                'Longitude' : y[i]['geometry']['location']['lng'],\n",
    "                'Rating' : y[i]['rating'],\n",
    "                'Number of Reviews' : y[i]['user_ratings_total'],\n",
    "                'Affluence level/Price' : \"$\" if ('price_level' in y[i] and y[i]['price_level'] == 1) else \"$$\" if ('price_level' in y[i] and y[i]['price_level'] == 2) else \"$$$\" if ('price_level' in y[i] and y[i]['price_level'] == 3) else \"$$$$\"if ('price_level' in y[i] and y[i]['price_level'] == 4) else \"unavilable\" \n",
    "                })\n"
   ]
  }
 ],
 "metadata": {
  "interpreter": {
   "hash": "fcf1d46d271c46101d6967829d4a5f475342a2ce08e4944f989fbcdc9bb23690"
  },
  "kernelspec": {
   "display_name": "Python 3.9.0 64-bit",
   "language": "python",
   "name": "python3"
  },
  "language_info": {
   "codemirror_mode": {
    "name": "ipython",
    "version": 3
   },
   "file_extension": ".py",
   "mimetype": "text/x-python",
   "name": "python",
   "nbconvert_exporter": "python",
   "pygments_lexer": "ipython3",
   "version": "3.10.2"
  },
  "orig_nbformat": 4
 },
 "nbformat": 4,
 "nbformat_minor": 2
}
